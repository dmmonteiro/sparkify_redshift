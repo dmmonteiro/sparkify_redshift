{
 "cells": [
  {
   "cell_type": "markdown",
   "metadata": {},
   "source": [
    "# Analytics over the Data Warehouse"
   ]
  },
  {
   "cell_type": "code",
   "execution_count": null,
   "metadata": {},
   "outputs": [],
   "source": [
    "import configparser\n",
    "config = configparser.ConfigParser()\n",
    "config.read_file(open('dwh.cfg'))\n",
    "\n",
    "db_name = config.get('CLUSTER', 'db_name')\n",
    "db_user = config.get('CLUSTER', 'db_user')\n",
    "db_password = config.get('CLUSTER', 'db_password')\n",
    "db_port = config.get('CLUSTER', 'db_port')\n",
    "db_host = config.get('CLUSTER', 'host')\n"
   ]
  },
  {
   "cell_type": "code",
   "execution_count": null,
   "metadata": {},
   "outputs": [],
   "source": [
    "%load_ext sql\n"
   ]
  },
  {
   "cell_type": "code",
   "execution_count": null,
   "metadata": {},
   "outputs": [],
   "source": [
    "conn_string = \"postgresql://{}:{}@{}:{}/{}\".format(\n",
    "    db_user, db_password, db_host, db_port, db_name)\n",
    "print(conn_string)\n",
    "%sql $conn_string\n"
   ]
  },
  {
   "cell_type": "markdown",
   "metadata": {},
   "source": [
    "### Queries"
   ]
  },
  {
   "cell_type": "markdown",
   "metadata": {},
   "source": [
    "Top 10 artists"
   ]
  },
  {
   "cell_type": "code",
   "execution_count": null,
   "metadata": {},
   "outputs": [],
   "source": [
    "%%sql\n",
    "SELECT a.name, count(*) plays\n",
    "FROM artists a\n",
    "JOIN songplays sp ON a.artist_id = sp.artist_id\n",
    "GROUP BY a.name\n",
    "ORDER BY plays DESC\n",
    "LIMIT 10;"
   ]
  },
  {
   "cell_type": "markdown",
   "metadata": {},
   "source": [
    "Top 10 songs"
   ]
  },
  {
   "cell_type": "code",
   "execution_count": null,
   "metadata": {},
   "outputs": [],
   "source": [
    "%%sql\n",
    "SELECT s.title, count(*) plays\n",
    "FROM songs s\n",
    "JOIN songplays sp ON s.song_id = sp.song_id\n",
    "GROUP BY s.title\n",
    "ORDER BY plays DESC\n",
    "LIMIT 10;\n"
   ]
  },
  {
   "cell_type": "markdown",
   "metadata": {},
   "source": [
    "Days with more plays"
   ]
  },
  {
   "cell_type": "code",
   "execution_count": null,
   "metadata": {},
   "outputs": [],
   "source": [
    "%%sql\n",
    "SELECT t.day, t.month, t.year, count(*) plays\n",
    "FROM time t\n",
    "JOIN songplays sp ON t.start_time = sp.start_time\n",
    "GROUP BY t.day, t.month, t.year\n",
    "ORDER BY plays DESC\n",
    "LIMIT 10;\n"
   ]
  },
  {
   "cell_type": "markdown",
   "metadata": {},
   "source": [
    "Day of the week with more plays"
   ]
  },
  {
   "cell_type": "code",
   "execution_count": null,
   "metadata": {},
   "outputs": [],
   "source": [
    "%%sql\n",
    "SELECT TO_CHAR(t.start_time, 'Day') day_of_week, count(*) plays\n",
    "FROM time t\n",
    "JOIN songplays sp ON t.start_time = sp.start_time\n",
    "GROUP BY TO_CHAR(t.start_time, 'Day')\n",
    "ORDER BY plays DESC\n",
    "LIMIT 10;"
   ]
  }
 ],
 "metadata": {
  "interpreter": {
   "hash": "67ca25c12e227b959b51f479ce619f1e67cde166b22ed8ef3fd3c43c3eac5f5b"
  },
  "kernelspec": {
   "display_name": "Python 3.8.5 ('env': venv)",
   "language": "python",
   "name": "python3"
  },
  "language_info": {
   "codemirror_mode": {
    "name": "ipython",
    "version": 3
   },
   "file_extension": ".py",
   "mimetype": "text/x-python",
   "name": "python",
   "nbconvert_exporter": "python",
   "pygments_lexer": "ipython3",
   "version": "3.8.5"
  },
  "orig_nbformat": 4
 },
 "nbformat": 4,
 "nbformat_minor": 2
}
